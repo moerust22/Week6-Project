{
 "cells": [
  {
   "cell_type": "markdown",
   "id": "c2f059f1-4c78-463c-b792-c199c98f6d8a",
   "metadata": {},
   "source": [
    "Week 6 Project"
   ]
  },
  {
   "cell_type": "markdown",
   "id": "01e93a3b-4a94-4906-b19f-6f1c48d99054",
   "metadata": {},
   "source": [
    "Introduction: This project is for week 6 and to wrap up the course Tools for Data Science"
   ]
  },
  {
   "cell_type": "markdown",
   "id": "6d6f5dcf-f7b8-40ed-a711-d68d77e8d6e4",
   "metadata": {},
   "source": [
    "Data Science Languages:\n",
    "Python; R; SQL; Java; Julia; Scala; C/C++; Javascript"
   ]
  },
  {
   "cell_type": "markdown",
   "id": "733e8ede-08a0-4c87-ac1e-7d1c07893ae1",
   "metadata": {},
   "source": [
    "Data Science Libraries: \n",
    "1. TensorFlow\n",
    "2. NumPy\n",
    "3. SciPy\n",
    "4. Pandas\n",
    "5. Matplotlib\n",
    "6. Keras\n",
    "7. SciKit_learn\n",
    "8. PyTorch\n",
    "9. Scrapy\n",
    "10. BeautifulSoup\n",
    "11. LightGBM\n",
    "12. ELI5\n",
    "13. Theano\n",
    "14. NuPIC\n",
    "15. Ramp\n",
    "16. Pipenv\n",
    "17. Bob\n",
    "18. PyBrain\n",
    "19. Caffe\n",
    "20. Chainer"
   ]
  },
  {
   "cell_type": "markdown",
   "id": "c7a9c0ac-3658-4f37-a3ee-9ff82002310a",
   "metadata": {},
   "source": [
    "Data Science Tools\n",
    "1. SAS\n",
    "2. Apache Spark\n",
    "3. Jupyter\n",
    "4. Tableau"
   ]
  },
  {
   "cell_type": "markdown",
   "id": "78e7c058-903a-4b53-bb5d-d0d151581082",
   "metadata": {},
   "source": [
    "Below are a few examples of evaluating arithmetic expressions in Python"
   ]
  },
  {
   "cell_type": "code",
   "execution_count": 1,
   "id": "eb95f5e8-658c-47f3-a53c-306cfa3a7a4b",
   "metadata": {},
   "outputs": [
    {
     "data": {
      "text/plain": [
       "329"
      ]
     },
     "execution_count": 1,
     "metadata": {},
     "output_type": "execute_result"
    }
   ],
   "source": [
    "8*8*5+9"
   ]
  },
  {
   "cell_type": "code",
   "execution_count": 16,
   "id": "c8272723-a4c8-444a-94e8-9a7e60fd1d96",
   "metadata": {},
   "outputs": [
    {
     "name": "stdout",
     "output_type": "stream",
     "text": [
      "3.3333333333333335\n"
     ]
    }
   ],
   "source": [
    "min = 200\n",
    "hrs = min / 60\n",
    "print(hrs)"
   ]
  },
  {
   "cell_type": "markdown",
   "id": "26c33a2d-7d98-47ed-b03b-14b96ecbcc71",
   "metadata": {},
   "source": [
    "Objectives: Use Jupyter Notebook and leveraging the notebook on Skills Network labs, create a project and share it via a public Github link."
   ]
  },
  {
   "cell_type": "markdown",
   "id": "c3dacf4b-ac98-49d7-b117-8907366e7e12",
   "metadata": {},
   "source": [
    "Author: Morgan Rust"
   ]
  }
 ],
 "metadata": {
  "kernelspec": {
   "display_name": "Python 3 (ipykernel)",
   "language": "python",
   "name": "python3"
  },
  "language_info": {
   "codemirror_mode": {
    "name": "ipython",
    "version": 3
   },
   "file_extension": ".py",
   "mimetype": "text/x-python",
   "name": "python",
   "nbconvert_exporter": "python",
   "pygments_lexer": "ipython3",
   "version": "3.11.9"
  }
 },
 "nbformat": 4,
 "nbformat_minor": 5
}
